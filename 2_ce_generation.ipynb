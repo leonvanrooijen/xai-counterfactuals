{
 "cells": [
  {
   "cell_type": "code",
   "execution_count": 4,
   "metadata": {},
   "outputs": [],
   "source": [
    "import joblib"
   ]
  },
  {
   "cell_type": "code",
   "execution_count": 7,
   "metadata": {},
   "outputs": [],
   "source": [
    "\n",
    "# Specify the path to the file\n",
    "\n",
    "path = 'trained_models/'\n",
    "version = path + '19_05_2024__20-31'\n",
    "\n",
    "dataset = 'credit_score'\n",
    "\n",
    "# Load the models\n",
    "\n",
    "for model in ['rf', 'rbf_svm', 'dnn']:\n",
    "    \n",
    "    # Load the model\n",
    "    model = joblib.load(version + '/' + dataset + '_' + model + '.joblib')"
   ]
  }
 ],
 "metadata": {
  "kernelspec": {
   "display_name": "Python 3",
   "language": "python",
   "name": "python3"
  },
  "language_info": {
   "codemirror_mode": {
    "name": "ipython",
    "version": 3
   },
   "file_extension": ".py",
   "mimetype": "text/x-python",
   "name": "python",
   "nbconvert_exporter": "python",
   "pygments_lexer": "ipython3",
   "version": "3.11.8"
  }
 },
 "nbformat": 4,
 "nbformat_minor": 2
}
